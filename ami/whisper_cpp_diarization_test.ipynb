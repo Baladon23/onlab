{
 "cells": [
  {
   "cell_type": "code",
   "execution_count": 1,
   "metadata": {},
   "outputs": [
    {
     "name": "stdout",
     "output_type": "stream",
     "text": [
      "Invalid model: medium.en-tdrz\n",
      "\n",
      "Available models:\n",
      "  tiny tiny.en tiny-q5_1 tiny.en-q5_1\n",
      "  base base.en base-q5_1 base.en-q5_1\n",
      "  small small.en small.en-tdrz small-q5_1 small.en-q5_1\n",
      "  medium medium.en medium-q5_0 medium.en-q5_0\n",
      "  large-v1 large-v2 large-v2-q5_0 large-v3 large-v3-q5_0\n",
      "\n"
     ]
    }
   ],
   "source": [
    "# first download the tinydiarize model (should be the same as in the tinydiarize example)\n",
    "! /home/kozi/Documents/_onlab_git/ami/whisper.cpp/models/download-ggml-model.sh medium.en-tdrz"
   ]
  }
 ],
 "metadata": {
  "kernelspec": {
   "display_name": "nemo2",
   "language": "python",
   "name": "python3"
  },
  "language_info": {
   "codemirror_mode": {
    "name": "ipython",
    "version": 3
   },
   "file_extension": ".py",
   "mimetype": "text/x-python",
   "name": "python",
   "nbconvert_exporter": "python",
   "pygments_lexer": "ipython3",
   "version": "3.8.18"
  }
 },
 "nbformat": 4,
 "nbformat_minor": 2
}
