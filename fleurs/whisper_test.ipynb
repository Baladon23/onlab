{
 "cells": [
  {
   "cell_type": "markdown",
   "metadata": {},
   "source": [
    "# Whisper transcription on the FLEURS dataset\n",
    "Only on the downloaded part of it (approx. 10 languages for which I found a multilingual NeMo model as comparision). The manifests need to be generated beforehand."
   ]
  },
  {
   "cell_type": "code",
   "execution_count": 1,
   "metadata": {},
   "outputs": [],
   "source": [
    "# if faster_whisper fails silently, chances are this will solve it: sudo apt install nvidia-cudnn # ipynb does not show all errors properly; I recommend running the problematic scripts directly from the terminal\n",
    "\n",
    "import whisper\n",
    "import json\n",
    "from tqdm.notebook import tqdm\n",
    "from faster_whisper import WhisperModel\n",
    "import os"
   ]
  },
  {
   "cell_type": "code",
   "execution_count": null,
   "metadata": {},
   "outputs": [],
   "source": [
    "# download a dedicated faster_whisper_model\n",
    "def download_faster_whisper_model(model_path_or_name):\n",
    "    model = WhisperModel(model_path_or_name, device=\"cuda\", compute_type=\"int8\", local_files_only = False)\n",
    "    return model\n",
    "\n",
    "model = download_faster_whisper_model('bababababooey/faster-whisper-large-v3') # 'large-v3'\n",
    "model"
   ]
  },
  {
   "cell_type": "code",
   "execution_count": 6,
   "metadata": {},
   "outputs": [],
   "source": [
    "def load_whisper_model(model_path_or_name):\n",
    "    model = whisper.load_model(model_path_or_name, device=\"cuda\")#.to(torch.device(\"cpu\"))\n",
    "    return model\n",
    "\n",
    "\n",
    "def load_faster_whisper_model(model_path_or_name):\n",
    "    # this can load even large models\n",
    "    if model_path_or_name == 'large-v3':\n",
    "        model = WhisperModel('bababababooey/faster-whisper-large-v3', device=\"cuda\", compute_type=\"int8\", local_files_only = True)\n",
    "        model.feature_extractor.mel_filters = model.feature_extractor.get_mel_filters(model.feature_extractor.sampling_rate, model.feature_extractor.n_fft, n_mels=128)\n",
    "    else:\n",
    "        model = WhisperModel(model_path_or_name, device=\"cuda\", compute_type=\"int8\", local_files_only = True)\n",
    "    return model\n",
    "\n",
    "\n",
    "# faster_whisper is faster than openai's implementation\n",
    "def whisper_transcribe_from_manifest(model, manifest_path, output_path, openai_whisper=False):\n",
    "    results = []\n",
    "\n",
    "    with open(manifest_path, 'r') as fin:\n",
    "        lines = fin.readlines()\n",
    "        print(\"read file {}\".format(manifest_path))\n",
    "        for line in tqdm(lines):\n",
    "            # load() for whole document, loads() for string\n",
    "            manifest_entry = json.loads(line)\n",
    "            #print(manifest_entry['audio_filepath'])\n",
    "\n",
    "            if openai_whisper:\n",
    "                result = model.transcribe(manifest_entry['audio_filepath'])\n",
    "            else:\n",
    "                segments, _ = model.transcribe(manifest_entry['audio_filepath'], beam_size=1, best_of=1) #  beam_size=1, best_of=1\n",
    "                segments = list(segments)  # The transcription will actually run here.)\n",
    "                result = \"\"\n",
    "                for segment in segments:\n",
    "                    result += segment.text\n",
    "                #print(result)\n",
    "\n",
    "            results.append({\n",
    "                \"audio_filepath\": manifest_entry['audio_filepath'],\n",
    "                \"duration\": manifest_entry['duration'],\n",
    "                \"text\": manifest_entry['text'],\n",
    "                \"pred_text\": result\n",
    "            })\n",
    "\n",
    "    with open(output_path, \"w\") as fout:\n",
    "        for result in results:\n",
    "            # ensure_ascii=True is the default and even speech_transcribe will use escaped umlauts, but this way the manifest is human-readable\n",
    "            fout.write(json.dumps(result, ensure_ascii=False) + \"\\n\")   \n",
    "    print(\"wrote file {}\".format(output_path))"
   ]
  },
  {
   "cell_type": "code",
   "execution_count": 7,
   "metadata": {},
   "outputs": [
    {
     "name": "stdout",
     "output_type": "stream",
     "text": [
      "loaded model tiny\n",
      "loaded model base\n",
      "loaded model small\n",
      "loaded model medium\n",
      "loaded model large\n",
      "loaded model large-v2\n",
      "loaded model large-v3\n",
      "read file /home/kozi/Documents/fleurs/hu_hu/whisper_manifest.json\n"
     ]
    },
    {
     "data": {
      "application/vnd.jupyter.widget-view+json": {
       "model_id": "86a49f936a0742f5a7877b8c15958821",
       "version_major": 2,
       "version_minor": 0
      },
      "text/plain": [
       "  0%|          | 0/905 [00:00<?, ?it/s]"
      ]
     },
     "metadata": {},
     "output_type": "display_data"
    },
    {
     "name": "stdout",
     "output_type": "stream",
     "text": [
      "wrote file /home/kozi/Documents/fleurs/hu_hu/whisper_transcription_hu_hu_large-v3.json\n"
     ]
    }
   ],
   "source": [
    "# run faster-whisper transcription for the downloaded fleurs dataset (manifests need to be generated beforehand)\n",
    "# fleurs_dataset_dirs = [\"be_by\", \"de_de\", \"en_us\", \"fr_fr\", \"gl_es\", \"hr_hr\", \"hu_hu\", \"it_it\", \"pl_pl\", \"ru_ru\", \"uk_ua\"]\n",
    "\n",
    "# large model does not fit into 4GB of VRAM (even medium can become problematic)\n",
    "# actually it does with cudnn, see ref. https://github.com/guillaumekln/faster-whisper#large-v2-model-on-gpu\n",
    "for model_name in [\"tiny\", \"base\", \"small\", \"medium\", \"large\", \"large-v2\", \"large-v3\"]: \n",
    "    model = load_faster_whisper_model(model_name)\n",
    "    print(\"loaded model {}\".format(model_name))\n",
    "\n",
    "    for child_item in os.listdir(\"/home/kozi/Documents/fleurs/\"):\n",
    "        child_dir = os.path.join(\"/home/kozi/Documents/fleurs/\", child_item)\n",
    "        if not os.path.isdir(child_dir):\n",
    "            continue\n",
    "\n",
    "        input_manifest_path = os.path.join(child_dir, \"whisper_manifest.json\")\n",
    "        if not os.path.isfile(input_manifest_path):\n",
    "            continue\n",
    "\n",
    "        output_manifest_path = os.path.join(child_dir, \"whisper_transcription_{}_{}.json\".format(child_item, model_name))\n",
    "        if os.path.isfile(output_manifest_path):\n",
    "            continue\n",
    "\n",
    "        whisper_transcribe_from_manifest(\n",
    "            model,\n",
    "            input_manifest_path,\n",
    "            output_path = output_manifest_path,\n",
    "            openai_whisper = False\n",
    "        )"
   ]
  }
 ],
 "metadata": {
  "kernelspec": {
   "display_name": "nemo2",
   "language": "python",
   "name": "python3"
  },
  "language_info": {
   "codemirror_mode": {
    "name": "ipython",
    "version": 3
   },
   "file_extension": ".py",
   "mimetype": "text/x-python",
   "name": "python",
   "nbconvert_exporter": "python",
   "pygments_lexer": "ipython3",
   "version": "3.8.18"
  }
 },
 "nbformat": 4,
 "nbformat_minor": 2
}
