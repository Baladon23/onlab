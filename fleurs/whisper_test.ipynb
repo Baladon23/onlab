{
 "cells": [
  {
   "cell_type": "markdown",
   "metadata": {},
   "source": [
    "# Whisper transcription on the FLEURS dataset\n",
    "Only on the downloaded part of it (approx. 10 languages for which I found a multilingual NeMo model as comparision). The manifests need to be generated beforehand."
   ]
  },
  {
   "cell_type": "code",
   "execution_count": 1,
   "metadata": {},
   "outputs": [
    {
     "name": "stderr",
     "output_type": "stream",
     "text": [
      "/home/kozi/Documents/_onlab_git/ami/tinydiarize/whisper/timing.py:57: NumbaDeprecationWarning: \u001b[1mThe 'nopython' keyword argument was not supplied to the 'numba.jit' decorator. The implicit default value for this argument is currently False, but it will be changed to True in Numba 0.59.0. See https://numba.readthedocs.io/en/stable/reference/deprecation.html#deprecation-of-object-mode-fall-back-behaviour-when-using-jit for details.\u001b[0m\n",
      "  def backtrace(trace: np.ndarray):\n"
     ]
    }
   ],
   "source": [
    "# if faster_whisper fails silently, chances are this will solve it: sudo apt install nvidia-cudnn # ipynb does not show all errors properly; I recommend running the problematic scripts directly from the terminal\n",
    "\n",
    "import whisper\n",
    "import json\n",
    "from tqdm.notebook import tqdm\n",
    "from faster_whisper import WhisperModel\n",
    "import os"
   ]
  },
  {
   "cell_type": "code",
   "execution_count": 2,
   "metadata": {},
   "outputs": [],
   "source": [
    "# download a dedicated faster_whisper_model\n",
    "def download_faster_whisper_model(model_path_or_name):\n",
    "    model = WhisperModel(model_path_or_name, device=\"cuda\", compute_type=\"int8\", local_files_only = False)\n",
    "    return model\n",
    "\n",
    "#model = download_faster_whisper_model('bababababooey/faster-whisper-large-v3') # 'large-v3'\n",
    "#model"
   ]
  },
  {
   "cell_type": "code",
   "execution_count": 3,
   "metadata": {},
   "outputs": [],
   "source": [
    "def load_whisper_model(model_path_or_name):\n",
    "    model = whisper.load_model(model_path_or_name, device=\"cuda\")#.to(torch.device(\"cpu\"))\n",
    "    return model\n",
    "\n",
    "\n",
    "def load_faster_whisper_model(model_path_or_name):\n",
    "    # this can load even large models\n",
    "    if model_path_or_name == 'large-v3':\n",
    "        model = WhisperModel('bababababooey/faster-whisper-large-v3', device=\"cuda\", compute_type=\"int8\", local_files_only = True)\n",
    "        model.feature_extractor.mel_filters = model.feature_extractor.get_mel_filters(model.feature_extractor.sampling_rate, model.feature_extractor.n_fft, n_mels=128)\n",
    "    else:\n",
    "        model = WhisperModel(model_path_or_name, device=\"cuda\", compute_type=\"int8\", local_files_only = True)\n",
    "    return model\n",
    "\n",
    "\n",
    "# faster_whisper is faster than openai's implementation\n",
    "def whisper_transcribe_from_manifest(model, manifest_path, output_path, openai_whisper=False):\n",
    "    results = []\n",
    "\n",
    "    with open(manifest_path, 'r') as fin:\n",
    "        lines = fin.readlines()\n",
    "        print(\"read file {}\".format(manifest_path))\n",
    "        for line in tqdm(lines):\n",
    "            # load() for whole document, loads() for string\n",
    "            manifest_entry = json.loads(line)\n",
    "            #print(manifest_entry['audio_filepath'])\n",
    "\n",
    "            if openai_whisper:\n",
    "                result = model.transcribe(manifest_entry['audio_filepath'])\n",
    "            else:\n",
    "                segments, _ = model.transcribe(manifest_entry['audio_filepath'], beam_size=1, best_of=1) #  beam_size=1, best_of=1\n",
    "                segments = list(segments)  # The transcription will actually run here.)\n",
    "                result = \"\"\n",
    "                for segment in segments:\n",
    "                    result += segment.text\n",
    "                #print(result)\n",
    "\n",
    "            results.append({\n",
    "                \"audio_filepath\": manifest_entry['audio_filepath'],\n",
    "                \"duration\": manifest_entry['duration'],\n",
    "                \"text\": manifest_entry['text'],\n",
    "                \"pred_text\": result\n",
    "            })\n",
    "\n",
    "    with open(output_path, \"w\") as fout:\n",
    "        for result in results:\n",
    "            # ensure_ascii=True is the default and even speech_transcribe will use escaped umlauts, but this way the manifest is human-readable\n",
    "            fout.write(json.dumps(result, ensure_ascii=False) + \"\\n\")   \n",
    "    print(\"wrote file {}\".format(output_path))"
   ]
  },
  {
   "cell_type": "code",
   "execution_count": 7,
   "metadata": {},
   "outputs": [
    {
     "name": "stdout",
     "output_type": "stream",
     "text": [
      "loaded model tiny\n",
      "loaded model base\n",
      "loaded model small\n",
      "loaded model medium\n",
      "loaded model large\n",
      "loaded model large-v2\n",
      "loaded model large-v3\n",
      "read file /home/kozi/Documents/fleurs/hu_hu/whisper_manifest.json\n"
     ]
    },
    {
     "data": {
      "application/vnd.jupyter.widget-view+json": {
       "model_id": "86a49f936a0742f5a7877b8c15958821",
       "version_major": 2,
       "version_minor": 0
      },
      "text/plain": [
       "  0%|          | 0/905 [00:00<?, ?it/s]"
      ]
     },
     "metadata": {},
     "output_type": "display_data"
    },
    {
     "name": "stdout",
     "output_type": "stream",
     "text": [
      "wrote file /home/kozi/Documents/fleurs/hu_hu/whisper_transcription_hu_hu_large-v3.json\n"
     ]
    }
   ],
   "source": [
    "# run faster-whisper transcription for the downloaded fleurs dataset (manifests need to be generated beforehand)\n",
    "# fleurs_dataset_dirs = [\"be_by\", \"de_de\", \"en_us\", \"fr_fr\", \"gl_es\", \"hr_hr\", \"hu_hu\", \"it_it\", \"pl_pl\", \"ru_ru\", \"uk_ua\"]\n",
    "\n",
    "# large model does not fit into 4GB of VRAM (even medium can become problematic)\n",
    "# actually it does with cudnn, see ref. https://github.com/guillaumekln/faster-whisper#large-v2-model-on-gpu\n",
    "for model_name in [\"tiny\", \"base\", \"small\", \"medium\", \"large\", \"large-v2\", \"large-v3\"]: \n",
    "    model = load_faster_whisper_model(model_name)\n",
    "    print(\"loaded model {}\".format(model_name))\n",
    "\n",
    "    for child_item in os.listdir(\"/home/kozi/Documents/fleurs/\"):\n",
    "        child_dir = os.path.join(\"/home/kozi/Documents/fleurs/\", child_item)\n",
    "        if not os.path.isdir(child_dir):\n",
    "            continue\n",
    "\n",
    "        input_manifest_path = os.path.join(child_dir, \"whisper_manifest.json\")\n",
    "        if not os.path.isfile(input_manifest_path):\n",
    "            continue\n",
    "\n",
    "        output_manifest_path = os.path.join(child_dir, \"whisper_transcription_{}_{}.json\".format(child_item, model_name))\n",
    "        if os.path.isfile(output_manifest_path):\n",
    "            continue\n",
    "\n",
    "        whisper_transcribe_from_manifest(\n",
    "            model,\n",
    "            input_manifest_path,\n",
    "            output_path = output_manifest_path,\n",
    "            openai_whisper = False\n",
    "        )"
   ]
  },
  {
   "cell_type": "code",
   "execution_count": 5,
   "metadata": {},
   "outputs": [
    {
     "name": "stdout",
     "output_type": "stream",
     "text": [
      "loaded model tiny\n",
      "read file /home/kozi/Documents/librispeech_get_test_dataset/data/test_other_whisper.json\n"
     ]
    },
    {
     "data": {
      "application/vnd.jupyter.widget-view+json": {
       "model_id": "722cfffceda2446a914cd9f0a1b92b50",
       "version_major": 2,
       "version_minor": 0
      },
      "text/plain": [
       "  0%|          | 0/2939 [00:00<?, ?it/s]"
      ]
     },
     "metadata": {},
     "output_type": "display_data"
    },
    {
     "name": "stdout",
     "output_type": "stream",
     "text": [
      "wrote file /home/kozi/Documents/_onlab_git/output/librispeech_get_test_dataset/whisper_transcription_librispeech_tiny.json\n",
      "loaded model base\n",
      "read file /home/kozi/Documents/librispeech_get_test_dataset/data/test_other_whisper.json\n"
     ]
    },
    {
     "data": {
      "application/vnd.jupyter.widget-view+json": {
       "model_id": "5d61adbaef674e229883e1d6cb92c317",
       "version_major": 2,
       "version_minor": 0
      },
      "text/plain": [
       "  0%|          | 0/2939 [00:00<?, ?it/s]"
      ]
     },
     "metadata": {},
     "output_type": "display_data"
    },
    {
     "name": "stdout",
     "output_type": "stream",
     "text": [
      "wrote file /home/kozi/Documents/_onlab_git/output/librispeech_get_test_dataset/whisper_transcription_librispeech_base.json\n",
      "loaded model small\n",
      "read file /home/kozi/Documents/librispeech_get_test_dataset/data/test_other_whisper.json\n"
     ]
    },
    {
     "data": {
      "application/vnd.jupyter.widget-view+json": {
       "model_id": "15662a12af964ccc83e0dfe471e1803d",
       "version_major": 2,
       "version_minor": 0
      },
      "text/plain": [
       "  0%|          | 0/2939 [00:00<?, ?it/s]"
      ]
     },
     "metadata": {},
     "output_type": "display_data"
    },
    {
     "name": "stdout",
     "output_type": "stream",
     "text": [
      "wrote file /home/kozi/Documents/_onlab_git/output/librispeech_get_test_dataset/whisper_transcription_librispeech_small.json\n",
      "loaded model medium\n",
      "read file /home/kozi/Documents/librispeech_get_test_dataset/data/test_other_whisper.json\n"
     ]
    },
    {
     "data": {
      "application/vnd.jupyter.widget-view+json": {
       "model_id": "587136e8478c4d43b9b448bc664251a7",
       "version_major": 2,
       "version_minor": 0
      },
      "text/plain": [
       "  0%|          | 0/2939 [00:00<?, ?it/s]"
      ]
     },
     "metadata": {},
     "output_type": "display_data"
    },
    {
     "name": "stdout",
     "output_type": "stream",
     "text": [
      "wrote file /home/kozi/Documents/_onlab_git/output/librispeech_get_test_dataset/whisper_transcription_librispeech_medium.json\n"
     ]
    },
    {
     "ename": "RuntimeError",
     "evalue": "CUDA failed with error out of memory",
     "output_type": "error",
     "traceback": [
      "\u001b[0;31m---------------------------------------------------------------------------\u001b[0m",
      "\u001b[0;31mRuntimeError\u001b[0m                              Traceback (most recent call last)",
      "Cell \u001b[0;32mIn[5], line 7\u001b[0m\n\u001b[1;32m      1\u001b[0m \u001b[38;5;66;03m# run faster-whisper transcription for the downloaded librispeech dataset (manifests need to be generated beforehand)\u001b[39;00m\n\u001b[1;32m      2\u001b[0m \u001b[38;5;66;03m# fleurs_dataset_dirs = [\"be_by\", \"de_de\", \"en_us\", \"fr_fr\", \"gl_es\", \"hr_hr\", \"hu_hu\", \"it_it\", \"pl_pl\", \"ru_ru\", \"uk_ua\"]\u001b[39;00m\n\u001b[1;32m      3\u001b[0m \n\u001b[1;32m      4\u001b[0m \u001b[38;5;66;03m# large model does not fit into 4GB of VRAM (even medium can become problematic)\u001b[39;00m\n\u001b[1;32m      5\u001b[0m \u001b[38;5;66;03m# actually it does with cudnn, see ref. https://github.com/guillaumekln/faster-whisper#large-v2-model-on-gpu\u001b[39;00m\n\u001b[1;32m      6\u001b[0m \u001b[38;5;28;01mfor\u001b[39;00m model_name \u001b[38;5;129;01min\u001b[39;00m [\u001b[38;5;124m\"\u001b[39m\u001b[38;5;124mtiny\u001b[39m\u001b[38;5;124m\"\u001b[39m, \u001b[38;5;124m\"\u001b[39m\u001b[38;5;124mbase\u001b[39m\u001b[38;5;124m\"\u001b[39m, \u001b[38;5;124m\"\u001b[39m\u001b[38;5;124msmall\u001b[39m\u001b[38;5;124m\"\u001b[39m, \u001b[38;5;124m\"\u001b[39m\u001b[38;5;124mmedium\u001b[39m\u001b[38;5;124m\"\u001b[39m, \u001b[38;5;124m\"\u001b[39m\u001b[38;5;124mlarge\u001b[39m\u001b[38;5;124m\"\u001b[39m, \u001b[38;5;124m\"\u001b[39m\u001b[38;5;124mlarge-v2\u001b[39m\u001b[38;5;124m\"\u001b[39m, \u001b[38;5;124m\"\u001b[39m\u001b[38;5;124mlarge-v3\u001b[39m\u001b[38;5;124m\"\u001b[39m]: \n\u001b[0;32m----> 7\u001b[0m     model \u001b[38;5;241m=\u001b[39m \u001b[43mload_faster_whisper_model\u001b[49m\u001b[43m(\u001b[49m\u001b[43mmodel_name\u001b[49m\u001b[43m)\u001b[49m\n\u001b[1;32m      8\u001b[0m     \u001b[38;5;28mprint\u001b[39m(\u001b[38;5;124m\"\u001b[39m\u001b[38;5;124mloaded model \u001b[39m\u001b[38;5;132;01m{}\u001b[39;00m\u001b[38;5;124m\"\u001b[39m\u001b[38;5;241m.\u001b[39mformat(model_name))\n\u001b[1;32m     10\u001b[0m     input_manifest_path \u001b[38;5;241m=\u001b[39m \u001b[38;5;124m\"\u001b[39m\u001b[38;5;124m/home/kozi/Documents/librispeech_get_test_dataset/data/test_other_whisper.json\u001b[39m\u001b[38;5;124m\"\u001b[39m\n",
      "Cell \u001b[0;32mIn[3], line 12\u001b[0m, in \u001b[0;36mload_faster_whisper_model\u001b[0;34m(model_path_or_name)\u001b[0m\n\u001b[1;32m     10\u001b[0m     model\u001b[38;5;241m.\u001b[39mfeature_extractor\u001b[38;5;241m.\u001b[39mmel_filters \u001b[38;5;241m=\u001b[39m model\u001b[38;5;241m.\u001b[39mfeature_extractor\u001b[38;5;241m.\u001b[39mget_mel_filters(model\u001b[38;5;241m.\u001b[39mfeature_extractor\u001b[38;5;241m.\u001b[39msampling_rate, model\u001b[38;5;241m.\u001b[39mfeature_extractor\u001b[38;5;241m.\u001b[39mn_fft, n_mels\u001b[38;5;241m=\u001b[39m\u001b[38;5;241m128\u001b[39m)\n\u001b[1;32m     11\u001b[0m \u001b[38;5;28;01melse\u001b[39;00m:\n\u001b[0;32m---> 12\u001b[0m     model \u001b[38;5;241m=\u001b[39m \u001b[43mWhisperModel\u001b[49m\u001b[43m(\u001b[49m\u001b[43mmodel_path_or_name\u001b[49m\u001b[43m,\u001b[49m\u001b[43m \u001b[49m\u001b[43mdevice\u001b[49m\u001b[38;5;241;43m=\u001b[39;49m\u001b[38;5;124;43m\"\u001b[39;49m\u001b[38;5;124;43mcuda\u001b[39;49m\u001b[38;5;124;43m\"\u001b[39;49m\u001b[43m,\u001b[49m\u001b[43m \u001b[49m\u001b[43mcompute_type\u001b[49m\u001b[38;5;241;43m=\u001b[39;49m\u001b[38;5;124;43m\"\u001b[39;49m\u001b[38;5;124;43mint8\u001b[39;49m\u001b[38;5;124;43m\"\u001b[39;49m\u001b[43m,\u001b[49m\u001b[43m \u001b[49m\u001b[43mlocal_files_only\u001b[49m\u001b[43m \u001b[49m\u001b[38;5;241;43m=\u001b[39;49m\u001b[43m \u001b[49m\u001b[38;5;28;43;01mTrue\u001b[39;49;00m\u001b[43m)\u001b[49m\n\u001b[1;32m     13\u001b[0m \u001b[38;5;28;01mreturn\u001b[39;00m model\n",
      "File \u001b[0;32m~/anaconda3/envs/nemo2/lib/python3.8/site-packages/faster_whisper/transcribe.py:128\u001b[0m, in \u001b[0;36mWhisperModel.__init__\u001b[0;34m(self, model_size_or_path, device, device_index, compute_type, cpu_threads, num_workers, download_root, local_files_only)\u001b[0m\n\u001b[1;32m    121\u001b[0m \u001b[38;5;28;01melse\u001b[39;00m:\n\u001b[1;32m    122\u001b[0m     model_path \u001b[38;5;241m=\u001b[39m download_model(\n\u001b[1;32m    123\u001b[0m         model_size_or_path,\n\u001b[1;32m    124\u001b[0m         local_files_only\u001b[38;5;241m=\u001b[39mlocal_files_only,\n\u001b[1;32m    125\u001b[0m         cache_dir\u001b[38;5;241m=\u001b[39mdownload_root,\n\u001b[1;32m    126\u001b[0m     )\n\u001b[0;32m--> 128\u001b[0m \u001b[38;5;28mself\u001b[39m\u001b[38;5;241m.\u001b[39mmodel \u001b[38;5;241m=\u001b[39m \u001b[43mctranslate2\u001b[49m\u001b[38;5;241;43m.\u001b[39;49m\u001b[43mmodels\u001b[49m\u001b[38;5;241;43m.\u001b[39;49m\u001b[43mWhisper\u001b[49m\u001b[43m(\u001b[49m\n\u001b[1;32m    129\u001b[0m \u001b[43m    \u001b[49m\u001b[43mmodel_path\u001b[49m\u001b[43m,\u001b[49m\n\u001b[1;32m    130\u001b[0m \u001b[43m    \u001b[49m\u001b[43mdevice\u001b[49m\u001b[38;5;241;43m=\u001b[39;49m\u001b[43mdevice\u001b[49m\u001b[43m,\u001b[49m\n\u001b[1;32m    131\u001b[0m \u001b[43m    \u001b[49m\u001b[43mdevice_index\u001b[49m\u001b[38;5;241;43m=\u001b[39;49m\u001b[43mdevice_index\u001b[49m\u001b[43m,\u001b[49m\n\u001b[1;32m    132\u001b[0m \u001b[43m    \u001b[49m\u001b[43mcompute_type\u001b[49m\u001b[38;5;241;43m=\u001b[39;49m\u001b[43mcompute_type\u001b[49m\u001b[43m,\u001b[49m\n\u001b[1;32m    133\u001b[0m \u001b[43m    \u001b[49m\u001b[43mintra_threads\u001b[49m\u001b[38;5;241;43m=\u001b[39;49m\u001b[43mcpu_threads\u001b[49m\u001b[43m,\u001b[49m\n\u001b[1;32m    134\u001b[0m \u001b[43m    \u001b[49m\u001b[43minter_threads\u001b[49m\u001b[38;5;241;43m=\u001b[39;49m\u001b[43mnum_workers\u001b[49m\u001b[43m,\u001b[49m\n\u001b[1;32m    135\u001b[0m \u001b[43m\u001b[49m\u001b[43m)\u001b[49m\n\u001b[1;32m    137\u001b[0m tokenizer_file \u001b[38;5;241m=\u001b[39m os\u001b[38;5;241m.\u001b[39mpath\u001b[38;5;241m.\u001b[39mjoin(model_path, \u001b[38;5;124m\"\u001b[39m\u001b[38;5;124mtokenizer.json\u001b[39m\u001b[38;5;124m\"\u001b[39m)\n\u001b[1;32m    138\u001b[0m \u001b[38;5;28;01mif\u001b[39;00m os\u001b[38;5;241m.\u001b[39mpath\u001b[38;5;241m.\u001b[39misfile(tokenizer_file):\n",
      "\u001b[0;31mRuntimeError\u001b[0m: CUDA failed with error out of memory"
     ]
    }
   ],
   "source": [
    "# run faster-whisper transcription for the downloaded librispeech dataset (manifests need to be generated beforehand)\n",
    "# fleurs_dataset_dirs = [\"be_by\", \"de_de\", \"en_us\", \"fr_fr\", \"gl_es\", \"hr_hr\", \"hu_hu\", \"it_it\", \"pl_pl\", \"ru_ru\", \"uk_ua\"]\n",
    "\n",
    "# large model does not fit into 4GB of VRAM (even medium can become problematic)\n",
    "# actually it does with cudnn, see ref. https://github.com/guillaumekln/faster-whisper#large-v2-model-on-gpu\n",
    "for model_name in [\"tiny\", \"base\", \"small\", \"medium\", \"large\", \"large-v2\", \"large-v3\"]: \n",
    "    model = load_faster_whisper_model(model_name)\n",
    "    print(\"loaded model {}\".format(model_name))\n",
    "\n",
    "    input_manifest_path = \"/home/kozi/Documents/librispeech_get_test_dataset/data/test_other_whisper.json\"\n",
    "\n",
    "    output_manifest_path = \"/home/kozi/Documents/_onlab_git/output/librispeech_get_test_dataset/whisper_transcription_librispeech_{}.json\".format(model_name)\n",
    "    if os.path.isfile(output_manifest_path):\n",
    "        continue\n",
    "\n",
    "    whisper_transcribe_from_manifest(\n",
    "        model,\n",
    "        input_manifest_path,\n",
    "        output_path = output_manifest_path,\n",
    "        openai_whisper = False\n",
    "    )"
   ]
  },
  {
   "cell_type": "code",
   "execution_count": 1,
   "metadata": {},
   "outputs": [
    {
     "name": "stdout",
     "output_type": "stream",
     "text": [
      "Traceback (most recent call last):\n",
      "  File \"/home/kozi/Documents/NeMo/examples/asr/speech_to_text_eval.py\", line 65, in <module>\n",
      "    import transcribe_speech\n",
      "  File \"/home/kozi/Documents/NeMo/examples/asr/transcribe_speech.py\", line 24, in <module>\n",
      "    from nemo.collections.asr.metrics.rnnt_wer import RNNTDecodingConfig\n",
      "  File \"/home/kozi/anaconda3/envs/mahmoud_whisper/lib/python3.10/site-packages/nemo/collections/asr/__init__.py\", line 15, in <module>\n",
      "    from nemo.collections.asr import data, losses, models, modules\n",
      "  File \"/home/kozi/anaconda3/envs/mahmoud_whisper/lib/python3.10/site-packages/nemo/collections/asr/losses/__init__.py\", line 16, in <module>\n",
      "    from nemo.collections.asr.losses.audio_losses import SDRLoss\n",
      "  File \"/home/kozi/anaconda3/envs/mahmoud_whisper/lib/python3.10/site-packages/nemo/collections/asr/losses/audio_losses.py\", line 21, in <module>\n",
      "    from nemo.collections.asr.parts.preprocessing.features import make_seq_mask_like\n",
      "  File \"/home/kozi/anaconda3/envs/mahmoud_whisper/lib/python3.10/site-packages/nemo/collections/asr/parts/preprocessing/__init__.py\", line 16, in <module>\n",
      "    from nemo.collections.asr.parts.preprocessing.features import FeaturizerFactory, FilterbankFeatures, WaveformFeaturizer\n",
      "  File \"/home/kozi/anaconda3/envs/mahmoud_whisper/lib/python3.10/site-packages/nemo/collections/asr/parts/preprocessing/features.py\", line 49, in <module>\n",
      "    import torchaudio\n",
      "  File \"/home/kozi/anaconda3/envs/mahmoud_whisper/lib/python3.10/site-packages/torchaudio/__init__.py\", line 1, in <module>\n",
      "    from . import (  # noqa: F401\n",
      "  File \"/home/kozi/anaconda3/envs/mahmoud_whisper/lib/python3.10/site-packages/torchaudio/_extension/__init__.py\", line 45, in <module>\n",
      "    _load_lib(\"libtorchaudio\")\n",
      "  File \"/home/kozi/anaconda3/envs/mahmoud_whisper/lib/python3.10/site-packages/torchaudio/_extension/utils.py\", line 64, in _load_lib\n",
      "    torch.ops.load_library(path)\n",
      "  File \"/home/kozi/anaconda3/envs/mahmoud_whisper/lib/python3.10/site-packages/torch/_ops.py\", line 1032, in load_library\n",
      "    ctypes.CDLL(path)\n",
      "  File \"/home/kozi/anaconda3/envs/mahmoud_whisper/lib/python3.10/ctypes/__init__.py\", line 374, in __init__\n",
      "    self._handle = _dlopen(self._name, mode)\n",
      "OSError: /home/kozi/anaconda3/envs/mahmoud_whisper/lib/python3.10/site-packages/torchaudio/lib/libtorchaudio.so: undefined symbol: _ZN2at4_ops10zeros_like4callERKNS_6TensorEN3c108optionalINS5_10ScalarTypeEEENS6_INS5_6LayoutEEENS6_INS5_6DeviceEEENS6_IbEENS6_INS5_12MemoryFormatEEE\n",
      "Traceback (most recent call last):\n",
      "  File \"/home/kozi/Documents/NeMo/examples/asr/speech_to_text_eval.py\", line 65, in <module>\n",
      "    import transcribe_speech\n",
      "  File \"/home/kozi/Documents/NeMo/examples/asr/transcribe_speech.py\", line 24, in <module>\n",
      "    from nemo.collections.asr.metrics.rnnt_wer import RNNTDecodingConfig\n",
      "  File \"/home/kozi/anaconda3/envs/mahmoud_whisper/lib/python3.10/site-packages/nemo/collections/asr/__init__.py\", line 15, in <module>\n",
      "    from nemo.collections.asr import data, losses, models, modules\n",
      "  File \"/home/kozi/anaconda3/envs/mahmoud_whisper/lib/python3.10/site-packages/nemo/collections/asr/losses/__init__.py\", line 16, in <module>\n",
      "    from nemo.collections.asr.losses.audio_losses import SDRLoss\n",
      "  File \"/home/kozi/anaconda3/envs/mahmoud_whisper/lib/python3.10/site-packages/nemo/collections/asr/losses/audio_losses.py\", line 21, in <module>\n",
      "    from nemo.collections.asr.parts.preprocessing.features import make_seq_mask_like\n",
      "  File \"/home/kozi/anaconda3/envs/mahmoud_whisper/lib/python3.10/site-packages/nemo/collections/asr/parts/preprocessing/__init__.py\", line 16, in <module>\n",
      "    from nemo.collections.asr.parts.preprocessing.features import FeaturizerFactory, FilterbankFeatures, WaveformFeaturizer\n",
      "  File \"/home/kozi/anaconda3/envs/mahmoud_whisper/lib/python3.10/site-packages/nemo/collections/asr/parts/preprocessing/features.py\", line 49, in <module>\n",
      "    import torchaudio\n",
      "  File \"/home/kozi/anaconda3/envs/mahmoud_whisper/lib/python3.10/site-packages/torchaudio/__init__.py\", line 1, in <module>\n",
      "    from . import (  # noqa: F401\n",
      "  File \"/home/kozi/anaconda3/envs/mahmoud_whisper/lib/python3.10/site-packages/torchaudio/_extension/__init__.py\", line 45, in <module>\n",
      "    _load_lib(\"libtorchaudio\")\n",
      "  File \"/home/kozi/anaconda3/envs/mahmoud_whisper/lib/python3.10/site-packages/torchaudio/_extension/utils.py\", line 64, in _load_lib\n",
      "    torch.ops.load_library(path)\n",
      "  File \"/home/kozi/anaconda3/envs/mahmoud_whisper/lib/python3.10/site-packages/torch/_ops.py\", line 1032, in load_library\n",
      "    ctypes.CDLL(path)\n",
      "  File \"/home/kozi/anaconda3/envs/mahmoud_whisper/lib/python3.10/ctypes/__init__.py\", line 374, in __init__\n",
      "    self._handle = _dlopen(self._name, mode)\n",
      "OSError: /home/kozi/anaconda3/envs/mahmoud_whisper/lib/python3.10/site-packages/torchaudio/lib/libtorchaudio.so: undefined symbol: _ZN2at4_ops10zeros_like4callERKNS_6TensorEN3c108optionalINS5_10ScalarTypeEEENS6_INS5_6LayoutEEENS6_INS5_6DeviceEEENS6_IbEENS6_INS5_12MemoryFormatEEE\n",
      "^C\n",
      "Traceback (most recent call last):\n",
      "  File \"/home/kozi/Documents/NeMo/examples/asr/speech_to_text_eval.py\", line 65, in <module>\n",
      "    import transcribe_speech\n",
      "  File \"/home/kozi/Documents/NeMo/examples/asr/transcribe_speech.py\", line 20, in <module>\n",
      "    import pytorch_lightning as pl\n",
      "  File \"/home/kozi/anaconda3/envs/mahmoud_whisper/lib/python3.10/site-packages/pytorch_lightning/__init__.py\", line 26, in <module>\n",
      "    from pytorch_lightning.callbacks import Callback  # noqa: E402\n",
      "  File \"/home/kozi/anaconda3/envs/mahmoud_whisper/lib/python3.10/site-packages/pytorch_lightning/callbacks/__init__.py\", line 29, in <module>\n",
      "    from pytorch_lightning.callbacks.pruning import ModelPruning\n",
      "  File \"/home/kozi/anaconda3/envs/mahmoud_whisper/lib/python3.10/site-packages/pytorch_lightning/callbacks/pruning.py\", line 28, in <module>\n",
      "    from pytorch_lightning.core.module import LightningModule\n",
      "  File \"/home/kozi/anaconda3/envs/mahmoud_whisper/lib/python3.10/site-packages/pytorch_lightning/core/__init__.py\", line 15, in <module>\n",
      "    from pytorch_lightning.core.datamodule import LightningDataModule\n",
      "  File \"/home/kozi/anaconda3/envs/mahmoud_whisper/lib/python3.10/site-packages/pytorch_lightning/core/datamodule.py\", line 23, in <module>\n",
      "    from pytorch_lightning.core.hooks import DataHooks\n",
      "  File \"/home/kozi/anaconda3/envs/mahmoud_whisper/lib/python3.10/site-packages/pytorch_lightning/core/hooks.py\", line 27, in <module>\n",
      "    class ModelHooks:\n",
      "KeyboardInterrupt\n",
      "Traceback (most recent call last):\n",
      "  File \"/home/kozi/Documents/NeMo/examples/asr/speech_to_text_eval.py\", line 65, in <module>\n",
      "    import transcribe_speech\n",
      "  File \"/home/kozi/Documents/NeMo/examples/asr/transcribe_speech.py\", line 24, in <module>\n",
      "    from nemo.collections.asr.metrics.rnnt_wer import RNNTDecodingConfig\n",
      "  File \"/home/kozi/anaconda3/envs/mahmoud_whisper/lib/python3.10/site-packages/nemo/collections/asr/__init__.py\", line 15, in <module>\n",
      "    from nemo.collections.asr import data, losses, models, modules\n",
      "  File \"/home/kozi/anaconda3/envs/mahmoud_whisper/lib/python3.10/site-packages/nemo/collections/asr/losses/__init__.py\", line 16, in <module>\n",
      "    from nemo.collections.asr.losses.audio_losses import SDRLoss\n",
      "  File \"/home/kozi/anaconda3/envs/mahmoud_whisper/lib/python3.10/site-packages/nemo/collections/asr/losses/audio_losses.py\", line 21, in <module>\n",
      "    from nemo.collections.asr.parts.preprocessing.features import make_seq_mask_like\n",
      "  File \"/home/kozi/anaconda3/envs/mahmoud_whisper/lib/python3.10/site-packages/nemo/collections/asr/parts/preprocessing/__init__.py\", line 16, in <module>\n",
      "    from nemo.collections.asr.parts.preprocessing.features import FeaturizerFactory, FilterbankFeatures, WaveformFeaturizer\n",
      "  File \"/home/kozi/anaconda3/envs/mahmoud_whisper/lib/python3.10/site-packages/nemo/collections/asr/parts/preprocessing/features.py\", line 49, in <module>\n",
      "    import torchaudio\n",
      "  File \"/home/kozi/anaconda3/envs/mahmoud_whisper/lib/python3.10/site-packages/torchaudio/__init__.py\", line 1, in <module>\n",
      "    from . import (  # noqa: F401\n",
      "  File \"/home/kozi/anaconda3/envs/mahmoud_whisper/lib/python3.10/site-packages/torchaudio/_extension/__init__.py\", line 45, in <module>\n",
      "    _load_lib(\"libtorchaudio\")\n",
      "  File \"/home/kozi/anaconda3/envs/mahmoud_whisper/lib/python3.10/site-packages/torchaudio/_extension/utils.py\", line 64, in _load_lib\n",
      "    torch.ops.load_library(path)\n",
      "  File \"/home/kozi/anaconda3/envs/mahmoud_whisper/lib/python3.10/site-packages/torch/_ops.py\", line 1032, in load_library\n",
      "    ctypes.CDLL(path)\n",
      "  File \"/home/kozi/anaconda3/envs/mahmoud_whisper/lib/python3.10/ctypes/__init__.py\", line 374, in __init__\n",
      "    self._handle = _dlopen(self._name, mode)\n",
      "OSError: /home/kozi/anaconda3/envs/mahmoud_whisper/lib/python3.10/site-packages/torchaudio/lib/libtorchaudio.so: undefined symbol: _ZN2at4_ops10zeros_like4callERKNS_6TensorEN3c108optionalINS5_10ScalarTypeEEENS6_INS5_6LayoutEEENS6_INS5_6DeviceEEENS6_IbEENS6_INS5_12MemoryFormatEEE\n"
     ]
    }
   ],
   "source": [
    "# script to calculate results for librispeech dataset\n",
    "# my nemo2 install broke somehow so this script no longer runs (probably because of a torch update issue, but it should not have updated)\n",
    "# use mahmoud_whisper conda environment or the jiwer script below\n",
    "\n",
    "!python3 /home/kozi/Documents/NeMo/examples/asr/speech_to_text_eval.py \\\n",
    "    dataset_manifest='/home/kozi/Documents/_onlab_git/output/librispeech_get_test_dataset/out_large_CER_1.json' \\\n",
    "    use_cer=True \\\n",
    "    only_score_manifest=True\n",
    "\n",
    "# 15 minutes\n",
    "!python3 /home/kozi/Documents/NeMo/examples/asr/speech_to_text_eval.py \\\n",
    "    dataset_manifest='/home/kozi/Documents/_onlab_git/output/librispeech_get_test_dataset/whisper_transcription_librispeech_tiny.json' \\\n",
    "    use_cer=True \\\n",
    "    only_score_manifest=True\n",
    "\n",
    "# 20 minutes\n",
    "!python3 /home/kozi/Documents/NeMo/examples/asr/speech_to_text_eval.py \\\n",
    "    dataset_manifest='/home/kozi/Documents/_onlab_git/output/librispeech_get_test_dataset/whisper_transcription_librispeech_base.json' \\\n",
    "    use_cer=True \\\n",
    "    only_score_manifest=True\n",
    "\n",
    "# 40 minutes\n",
    "!python3 /home/kozi/Documents/NeMo/examples/asr/speech_to_text_eval.py \\\n",
    "    dataset_manifest='/home/kozi/Documents/_onlab_git/output/librispeech_get_test_dataset/whisper_transcription_librispeech_small.json' \\\n",
    "    use_cer=True \\\n",
    "    only_score_manifest=True\n",
    "\n",
    "# 2 hours\n",
    "!python3 /home/kozi/Documents/NeMo/examples/asr/speech_to_text_eval.py \\\n",
    "    dataset_manifest='/home/kozi/Documents/_onlab_git/output/librispeech_get_test_dataset/whisper_transcription_librispeech_medium.json' \\\n",
    "    use_cer=True \\\n",
    "    only_score_manifest=True"
   ]
  },
  {
   "cell_type": "code",
   "execution_count": 5,
   "metadata": {},
   "outputs": [
    {
     "name": "stdout",
     "output_type": "stream",
     "text": [
      "out_large_CER_1.json: 4.31%\n",
      "whisper_transcription_librispeech_base.json: 13.47%\n",
      "whisper_transcription_librispeech_medium.json: 8.08%\n",
      "whisper_transcription_librispeech_small.json: 9.30%\n",
      "whisper_transcription_librispeech_tiny.json: 17.96%\n"
     ]
    }
   ],
   "source": [
    "# trim trailing whitespace in VSC: Ctrl-K Ctrl-X\n",
    "# okay well Whisper uses punctuation but Librispeech is all lowercase with only spaces so a little creativity is needed to make this work\n",
    "\n",
    "import json\n",
    "from jiwer import wer\n",
    "import os\n",
    "import re\n",
    "\n",
    "def preprocess_text(text):\n",
    "    # Lowercase the text\n",
    "    text = text.lower()\n",
    "    # Remove all non-alphabetic characters and extra spaces\n",
    "    text = re.sub(r'[^a-z\\s]', '', text)\n",
    "    text = re.sub(r'\\s+', ' ', text).strip()\n",
    "    return text\n",
    "\n",
    "def calculate_weighted_average_wer(json_lines):\n",
    "    total_wer = 0.0\n",
    "    total_words = 0\n",
    "    wer_list = []\n",
    "\n",
    "    for line in json_lines:\n",
    "        # Parse JSON line\n",
    "        data = json.loads(line)\n",
    "\n",
    "        # Text and predicted text\n",
    "        reference = preprocess_text(data[\"text\"])\n",
    "        hypothesis = preprocess_text(data[\"pred_text\"])\n",
    "\n",
    "        # Calculate WER for this line\n",
    "        rate = wer(reference, hypothesis)\n",
    "\n",
    "        # Number of words in the reference text (weight)\n",
    "        num_words = len(reference.split())\n",
    "\n",
    "        # Add the weighted contribution to total WER\n",
    "        total_wer += rate * num_words\n",
    "        total_words += num_words\n",
    "\n",
    "    # Calculate the weighted average WER\n",
    "    if total_words > 0:\n",
    "        average_wer = total_wer / total_words\n",
    "    else:\n",
    "        average_wer = 0.0\n",
    "\n",
    "    return average_wer * 100\n",
    "\n",
    "def read_json_file(file_path):\n",
    "    with open(file_path, 'r') as file:\n",
    "        lines = file.readlines()\n",
    "    return lines\n",
    "\n",
    "base_path = '/home/kozi/Documents/_onlab_git/output/librispeech_get_test_dataset/'\n",
    "for file in ['out_large_CER_1.json', 'whisper_transcription_librispeech_base.json', 'whisper_transcription_librispeech_medium.json', 'whisper_transcription_librispeech_small.json', 'whisper_transcription_librispeech_tiny.json']:\n",
    "    json_lines = read_json_file(os.path.join(base_path, file))\n",
    "    average_wer_percentage = calculate_weighted_average_wer(json_lines)\n",
    "    print(f\"{file}: {average_wer_percentage:.2f}%\")"
   ]
  },
  {
   "cell_type": "code",
   "execution_count": 18,
   "metadata": {},
   "outputs": [
    {
     "data": {
      "image/png": "[encoded data removed]",
      "text/plain": [
       "<Figure size 1200x600 with 1 Axes>"
      ]
     },
     "metadata": {},
     "output_type": "display_data"
    }
   ],
   "source": [
    "import matplotlib.pyplot as plt\n",
    "\n",
    "# WER results to visualize\n",
    "wer_results = {\n",
    "    \"stt_en_conformer_ctc_small\": 4.31,\n",
    "    \"Whisper medium\": 8.08,\n",
    "    \"Whisper small\": 9.30,\n",
    "    \"Whisper base\": 13.47,\n",
    "    \"Whisper tiny\": 17.96\n",
    "}\n",
    "\n",
    "# Extract labels and WER values from the dictionary\n",
    "labels = list(wer_results.keys())\n",
    "wer_percentages = list(wer_results.values())\n",
    "\n",
    "# Create a bar chart\n",
    "plt.figure(figsize=(12, 6))\n",
    "plt.bar(labels, wer_percentages, color='skyblue')\n",
    "plt.xlabel('Models')\n",
    "plt.ylabel('WER (%)')\n",
    "plt.title('Word Error Rate (WER) on LibriSpeech')\n",
    "plt.grid(axis='y', linestyle='--', alpha=0.7)\n",
    "plt.ylim(0, max(wer_percentages) + 2)\n",
    "\n",
    "# Add percentage labels on top of the bars\n",
    "for i, wer in enumerate(wer_percentages):\n",
    "    plt.text(i, wer + 0.5, f'{wer:.2f}%', ha='center', va='bottom')\n",
    "\n",
    "# Show the plot\n",
    "plt.tight_layout()  # Adjust layout to make room for x-axis labels\n",
    "plt.show()"
   ]
  },
  {
   "cell_type": "code",
   "execution_count": 32,
   "metadata": {},
   "outputs": [
    {
     "name": "stdout",
     "output_type": "stream",
     "text": [
      "de_de-large: 4.37%\n",
      "de_de-large-v2: 4.37%\n",
      "en_us-large-v2: 4.97%\n",
      "en_us-large: 4.97%\n",
      "fr_fr-large-v2: 6.88%\n",
      "fr_fr-large: 6.88%\n",
      "gl_es-large: 34.78%\n",
      "gl_es-large-v2: 34.78%\n",
      "hr_hr-large-v2: 14.32%\n",
      "hr_hr-large: 14.32%\n",
      "hu_hu-large-v3: 111.58%\n",
      "hu_hu-large: 17.99%\n",
      "hu_hu-large-v2: 17.99%\n",
      "it_it-large: 3.08%\n",
      "it_it-large-v2: 3.08%\n",
      "pl_pl-large-v2: 5.88%\n",
      "pl_pl-large: 5.88%\n",
      "{}\n"
     ]
    }
   ],
   "source": [
    "# calculate WER results for large whisper models (large, larve-v2)\n",
    "\n",
    "import json\n",
    "from jiwer import wer\n",
    "import os\n",
    "import re\n",
    "\n",
    "def traverse_fleurs(skip_Hungarian=False):\n",
    "    fleurs_dataset_dirs = [\"de_de\", \"en_us\", \"fr_fr\", \"gl_es\", \"hr_hr\", \"hu_hu\", \"it_it\", \"pl_pl\"] # \"be_by\", \"ru_ru\", \"uk_ua\"\n",
    "    results = {}\n",
    "\n",
    "    for subdir_string in fleurs_dataset_dirs:\n",
    "        if skip_Hungarian and subdir_string == \"hu_hu\":\n",
    "            continue\n",
    "\n",
    "        subdir = os.path.join(\"/home/kozi/Documents/_onlab_git/output/fleurs/\", subdir_string)\n",
    "        for file in os.listdir(subdir):\n",
    "            if file.startswith(\"whisper\") and file.endswith(\".json\") and \"large\" in file:\n",
    "                file = os.path.join(subdir, file)\n",
    "                #print(\"Evaluating {}\".format(file))\n",
    "                json_lines = read_json_file(file)\n",
    "                average_wer_percentage = calculate_weighted_average_wer(json_lines)\n",
    "                version = \"large-v2\" if \"large-v2\" in file else \"large\"\n",
    "                version = \"large-v3\" if \"large-v3\" in file else version\n",
    "                print(f\"{subdir_string}-{version}: {average_wer_percentage:.2f}%\")\n",
    "    \n",
    "    print(results)\n",
    "\n",
    "def preprocess_text(text):\n",
    "    # Lowercase the text\n",
    "    text = text.lower()\n",
    "    # Remove all non-alphabetic characters and extra spaces\n",
    "    text = re.sub(r'[^a-z\\s]', '', text)\n",
    "    text = re.sub(r'\\s+', ' ', text).strip()\n",
    "    return text\n",
    "\n",
    "def calculate_weighted_average_wer(json_lines):\n",
    "    total_wer = 0.0\n",
    "    total_words = 0\n",
    "    wer_list = []\n",
    "\n",
    "    for line in json_lines:\n",
    "        # Parse JSON line\n",
    "        data = json.loads(line)\n",
    "\n",
    "        # Text and predicted text\n",
    "        reference = preprocess_text(data[\"text\"])\n",
    "        hypothesis = preprocess_text(data[\"pred_text\"])\n",
    "\n",
    "        # Calculate WER for this line\n",
    "        rate = wer(reference, hypothesis)\n",
    "\n",
    "        # Number of words in the reference text (weight)\n",
    "        num_words = len(reference.split())\n",
    "\n",
    "        # Add the weighted contribution to total WER\n",
    "        total_wer += rate * num_words\n",
    "        total_words += num_words\n",
    "\n",
    "    # Calculate the weighted average WER\n",
    "    if total_words > 0:\n",
    "        average_wer = total_wer / total_words\n",
    "    else:\n",
    "        average_wer = 0.0\n",
    "\n",
    "    return average_wer * 100\n",
    "\n",
    "def read_json_file(file_path):\n",
    "    with open(file_path, 'r') as file:\n",
    "        lines = file.readlines()\n",
    "    return lines\n",
    "\n",
    "traverse_fleurs()"
   ]
  },
  {
   "cell_type": "code",
   "execution_count": 34,
   "metadata": {},
   "outputs": [
    {
     "data": {
      "image/png": "[encoded data removed]",
      "text/plain": [
       "<Figure size 1200x600 with 1 Axes>"
      ]
     },
     "metadata": {},
     "output_type": "display_data"
    }
   ],
   "source": [
    "# for whatever reason large and large-v2 outputs are identical -- probably a mistake on my part\n",
    "\n",
    "import matplotlib.pyplot as plt\n",
    "\n",
    "# WER results to visualize\n",
    "wer_results =  {\n",
    "     \"it_it-large\": 3.08,\n",
    "     \"de_de-large\": 4.37,\n",
    "     \"en_us-large\": 4.97,\n",
    "     \"pl_pl-large\": 5.88,\n",
    "     \"fr_fr-large\": 6.88,\n",
    "     \"hr_hr-large\": 14.32,\n",
    "     \"hu_hu-large\": 17.99,\n",
    "     \"gl_es-large\": 34.78\n",
    " }\n",
    "\n",
    "\n",
    "labels = list(wer_results.keys())\n",
    "wer_percentages = list(wer_results.values())\n",
    "\n",
    "plt.figure(figsize=(12, 6))\n",
    "plt.bar(labels, wer_percentages, color='skyblue')\n",
    "plt.xlabel('Models')\n",
    "plt.ylabel('WER (%)')\n",
    "plt.title('Word Error Rate (WER) on Fleurs by Whisper-large')\n",
    "plt.grid(axis='y', linestyle='--', alpha=0.7)\n",
    "plt.ylim(0, max(wer_percentages) + 2)\n",
    "\n",
    "for i, wer in enumerate(wer_percentages):\n",
    "    plt.text(i, wer + 0.5, f'{wer:.2f}%', ha='center', va='bottom')\n",
    "\n",
    "plt.tight_layout()\n",
    "plt.show()"
   ]
  }
 ],
 "metadata": {
  "kernelspec": {
   "display_name": "nemo2",
   "language": "python",
   "name": "python3"
  },
  "language_info": {
   "codemirror_mode": {
    "name": "ipython",
    "version": 3
   },
   "file_extension": ".py",
   "mimetype": "text/x-python",
   "name": "python",
   "nbconvert_exporter": "python",
   "pygments_lexer": "ipython3",
   "version": "3.10.14"
  }
 },
 "nbformat": 4,
 "nbformat_minor": 2
}
