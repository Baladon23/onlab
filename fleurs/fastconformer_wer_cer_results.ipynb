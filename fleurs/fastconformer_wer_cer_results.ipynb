{
 "cells": [
  {
   "cell_type": "code",
   "execution_count": 3,
   "metadata": {},
   "outputs": [
    {
     "name": "stderr",
     "output_type": "stream",
     "text": [
      "[NeMo W 2023-10-24 13:48:32 nemo_logging:349] /home/kozi/anaconda3/envs/nemo2/lib/python3.8/site-packages/hydra/_internal/hydra.py:119: UserWarning: Future Hydra versions will no longer change working directory at job runtime by default.\n",
      "    See https://hydra.cc/docs/1.2/upgrades/1.1_to_1.2/changes_to_job_working_dir/ for more information.\n",
      "      ret = run_job(\n",
      "    \n"
     ]
    },
    {
     "name": "stdout",
     "output_type": "stream",
     "text": [
      "fastconformer_capitalized_output_utf8.json ### WER=20.66 %; CER=7.81 %\n"
     ]
    },
    {
     "name": "stderr",
     "output_type": "stream",
     "text": [
      "[NeMo W 2023-10-24 13:48:39 nemo_logging:349] /home/kozi/anaconda3/envs/nemo2/lib/python3.8/site-packages/hydra/_internal/hydra.py:119: UserWarning: Future Hydra versions will no longer change working directory at job runtime by default.\n",
      "    See https://hydra.cc/docs/1.2/upgrades/1.1_to_1.2/changes_to_job_working_dir/ for more information.\n",
      "      ret = run_job(\n",
      "    \n"
     ]
    },
    {
     "name": "stdout",
     "output_type": "stream",
     "text": [
      "fastconformer_capitalized_output_utf8.json ### WER=12.39 %; CER=5.47 %\n"
     ]
    },
    {
     "name": "stderr",
     "output_type": "stream",
     "text": [
      "[NeMo W 2023-10-24 13:48:46 nemo_logging:349] /home/kozi/anaconda3/envs/nemo2/lib/python3.8/site-packages/hydra/_internal/hydra.py:119: UserWarning: Future Hydra versions will no longer change working directory at job runtime by default.\n",
      "    See https://hydra.cc/docs/1.2/upgrades/1.1_to_1.2/changes_to_job_working_dir/ for more information.\n",
      "      ret = run_job(\n",
      "    \n"
     ]
    },
    {
     "name": "stdout",
     "output_type": "stream",
     "text": [
      "fastconformer_capitalized_output_utf8.json ### WER=16.9 %; CER=7.46 %\n"
     ]
    },
    {
     "name": "stderr",
     "output_type": "stream",
     "text": [
      "[NeMo W 2023-10-24 13:48:53 nemo_logging:349] /home/kozi/anaconda3/envs/nemo2/lib/python3.8/site-packages/hydra/_internal/hydra.py:119: UserWarning: Future Hydra versions will no longer change working directory at job runtime by default.\n",
      "    See https://hydra.cc/docs/1.2/upgrades/1.1_to_1.2/changes_to_job_working_dir/ for more information.\n",
      "      ret = run_job(\n",
      "    \n"
     ]
    },
    {
     "name": "stdout",
     "output_type": "stream",
     "text": [
      "fastconformer_capitalized_output_utf8.json ### WER=19.01 %; CER=7.55 %\n"
     ]
    },
    {
     "name": "stderr",
     "output_type": "stream",
     "text": [
      "[NeMo W 2023-10-24 13:49:00 nemo_logging:349] /home/kozi/anaconda3/envs/nemo2/lib/python3.8/site-packages/hydra/_internal/hydra.py:119: UserWarning: Future Hydra versions will no longer change working directory at job runtime by default.\n",
      "    See https://hydra.cc/docs/1.2/upgrades/1.1_to_1.2/changes_to_job_working_dir/ for more information.\n",
      "      ret = run_job(\n",
      "    \n"
     ]
    },
    {
     "name": "stdout",
     "output_type": "stream",
     "text": [
      "fastconformer_capitalized_output_utf8.json ### WER=56.42 %; CER=16.7 %\n"
     ]
    },
    {
     "name": "stderr",
     "output_type": "stream",
     "text": [
      "[NeMo W 2023-10-24 13:49:07 nemo_logging:349] /home/kozi/anaconda3/envs/nemo2/lib/python3.8/site-packages/hydra/_internal/hydra.py:119: UserWarning: Future Hydra versions will no longer change working directory at job runtime by default.\n",
      "    See https://hydra.cc/docs/1.2/upgrades/1.1_to_1.2/changes_to_job_working_dir/ for more information.\n",
      "      ret = run_job(\n",
      "    \n"
     ]
    },
    {
     "name": "stdout",
     "output_type": "stream",
     "text": [
      "fastconformer_capitalized_output_utf8.json ### WER=87.51 %; CER=70.52 %\n"
     ]
    },
    {
     "name": "stderr",
     "output_type": "stream",
     "text": [
      "[NeMo W 2023-10-24 13:49:14 nemo_logging:349] /home/kozi/anaconda3/envs/nemo2/lib/python3.8/site-packages/hydra/_internal/hydra.py:119: UserWarning: Future Hydra versions will no longer change working directory at job runtime by default.\n",
      "    See https://hydra.cc/docs/1.2/upgrades/1.1_to_1.2/changes_to_job_working_dir/ for more information.\n",
      "      ret = run_job(\n",
      "    \n"
     ]
    },
    {
     "name": "stdout",
     "output_type": "stream",
     "text": [
      "fastconformer_capitalized_output_utf8.json ### WER=14.1 %; CER=5.03 %\n"
     ]
    },
    {
     "name": "stderr",
     "output_type": "stream",
     "text": [
      "[NeMo W 2023-10-24 13:49:21 nemo_logging:349] /home/kozi/anaconda3/envs/nemo2/lib/python3.8/site-packages/hydra/_internal/hydra.py:119: UserWarning: Future Hydra versions will no longer change working directory at job runtime by default.\n",
      "    See https://hydra.cc/docs/1.2/upgrades/1.1_to_1.2/changes_to_job_working_dir/ for more information.\n",
      "      ret = run_job(\n",
      "    \n"
     ]
    },
    {
     "name": "stdout",
     "output_type": "stream",
     "text": [
      "fastconformer_capitalized_output_utf8.json ### WER=19.99 %; CER=7.88 %\n"
     ]
    },
    {
     "name": "stderr",
     "output_type": "stream",
     "text": [
      "[NeMo W 2023-10-24 13:49:28 nemo_logging:349] /home/kozi/anaconda3/envs/nemo2/lib/python3.8/site-packages/hydra/_internal/hydra.py:119: UserWarning: Future Hydra versions will no longer change working directory at job runtime by default.\n",
      "    See https://hydra.cc/docs/1.2/upgrades/1.1_to_1.2/changes_to_job_working_dir/ for more information.\n",
      "      ret = run_job(\n",
      "    \n"
     ]
    },
    {
     "name": "stdout",
     "output_type": "stream",
     "text": [
      "fastconformer_capitalized_output_utf8.json ### WER=18.05 %; CER=7.21 %\n"
     ]
    },
    {
     "name": "stderr",
     "output_type": "stream",
     "text": [
      "[NeMo W 2023-10-24 13:49:35 nemo_logging:349] /home/kozi/anaconda3/envs/nemo2/lib/python3.8/site-packages/hydra/_internal/hydra.py:119: UserWarning: Future Hydra versions will no longer change working directory at job runtime by default.\n",
      "    See https://hydra.cc/docs/1.2/upgrades/1.1_to_1.2/changes_to_job_working_dir/ for more information.\n",
      "      ret = run_job(\n",
      "    \n"
     ]
    },
    {
     "name": "stdout",
     "output_type": "stream",
     "text": [
      "fastconformer_capitalized_output_utf8.json ### WER=20.81 %; CER=7.8 %\n",
      "{'be_by': {'fastconformer_capitalized_output_utf8.json': {'WER': 20.66, 'CER': 7.81}}, 'de_de': {'fastconformer_capitalized_output_utf8.json': {'WER': 12.39, 'CER': 5.47}}, 'en_us': {'fastconformer_capitalized_output_utf8.json': {'WER': 16.9, 'CER': 7.46}}, 'fr_fr': {'fastconformer_capitalized_output_utf8.json': {'WER': 19.01, 'CER': 7.55}}, 'gl_es': {'fastconformer_capitalized_output_utf8.json': {'WER': 56.42, 'CER': 16.7}}, 'hr_hr': {'fastconformer_capitalized_output_utf8.json': {'WER': 87.51, 'CER': 70.52}}, 'it_it': {'fastconformer_capitalized_output_utf8.json': {'WER': 14.1, 'CER': 5.03}}, 'pl_pl': {'fastconformer_capitalized_output_utf8.json': {'WER': 19.99, 'CER': 7.88}}, 'ru_ru': {'fastconformer_capitalized_output_utf8.json': {'WER': 18.05, 'CER': 7.21}}, 'uk_ua': {'fastconformer_capitalized_output_utf8.json': {'WER': 20.81, 'CER': 7.8}}}\n"
     ]
    }
   ],
   "source": [
    "# function to traverse the Fleurs dataset\n",
    "\n",
    "import os\n",
    "import matplotlib.pyplot as plt\n",
    "import re\n",
    "import subprocess\n",
    "\n",
    "\n",
    "def traverse_fleurs(skip_Hungarian=False):\n",
    "    fleurs_dataset_dirs = [\"be_by\", \"de_de\", \"en_us\", \"fr_fr\", \"gl_es\", \"hr_hr\", \"hu_hu\", \"it_it\", \"pl_pl\", \"ru_ru\", \"uk_ua\"]\n",
    "    results = {}\n",
    "    eval_script = \"/home/kozi/Documents/NeMo/examples/asr/speech_to_text_eval.py\"\n",
    "    params = \"use_cer=True only_score_manifest=True\"\n",
    "\n",
    "    for subdir_string in fleurs_dataset_dirs:\n",
    "        if skip_Hungarian and subdir_string == \"hu_hu\":\n",
    "            continue\n",
    "\n",
    "        subdir = os.path.join(\"/home/kozi/Documents/fleurs\", subdir_string)\n",
    "        for file in os.listdir(subdir):\n",
    "            if file.startswith(\"fastconformer\") and file.endswith(\".json\"):\n",
    "                file = os.path.join(subdir, file)\n",
    "                #print(\"Evaluating {}\".format(file))\n",
    "\n",
    "\n",
    "                for model_name in [\"fastconformer_capitalized_output_utf8.json\"]: \n",
    "                    if model_name in file: \n",
    "                        command = \"export MKL_THREADING_LAYER=GNU \\n python3 {} dataset_manifest={} {}\".format(eval_script, file, params)\n",
    "                        output = subprocess.check_output(command, shell=True).decode()  \n",
    "                        wer, cer = map(float, re.findall(r'[0-9]*\\.[0-9]*', output)) \n",
    "                        print(\"{} ### WER={} %; CER={} %\".format(model_name, wer, cer)) \n",
    "                        if subdir_string not in results:\n",
    "                            results[subdir_string] = {model_name: {\"WER\": wer, \"CER\": cer}}\n",
    "                        else:\n",
    "                            results[subdir_string][model_name] = {\"WER\": wer, \"CER\": cer}\n",
    "\n",
    "            elif file == \"fastconformer_capitalized_output_utf8.json\":\n",
    "                pass # see results for whisper in show_wer_cer_results.ipynb\n",
    "    \n",
    "    print(results)\n",
    "\n",
    "from json import loads\n",
    "\n",
    "string = \"{'be_by': {'small': {'WER': 92.19, 'CER': 33.22}, 'tiny': {'WER': 101.74, 'CER': 42.04}, 'medium': {'WER': 90.05, 'CER': 32.39}, 'base': {'WER': 95.13, 'CER': 36.37}}, 'de_de': {'base': {'WER': 25.89, 'CER': 8.4}, 'tiny': {'WER': 37.89, 'CER': 13.05}, 'medium': {'WER': 10.45, 'CER': 3.65}, 'small': {'WER': 14.68, 'CER': 4.54}}, 'en_us': {'medium': {'WER': 11.93, 'CER': 4.44}, 'tiny': {'WER': 21.93, 'CER': 9.1}, 'base': {'WER': 16.97, 'CER': 6.81}, 'small': {'WER': 13.73, 'CER': 5.11}}, 'fr_fr': {'tiny': {'WER': 49.68, 'CER': 21.99}, 'small': {'WER': 20.33, 'CER': 7.37}, 'base': {'WER': 33.77, 'CER': 13.92}, 'medium': {'WER': 15.11, 'CER': 5.62}}, 'gl_es': {'medium': {'WER': 47.69, 'CER': 13.5}, 'small': {'WER': 55.94, 'CER': 16.1}, 'tiny': {'WER': 72.5, 'CER': 24.45}, 'base': {'WER': 63.85, 'CER': 20.57}}, 'hr_hr': {'tiny': {'WER': 90.47, 'CER': 36.43}, 'base': {'WER': 70.14, 'CER': 21.64}, 'small': {'WER': 42.93, 'CER': 11.86}, 'medium': {'WER': 26.7, 'CER': 7.79}}, 'hu_hu': {'medium': {'WER': 32.28, 'CER': 9.17}, 'tiny': {'WER': 94.79, 'CER': 41.27}, 'base': {'WER': 76.78, 'CER': 30.44}, 'small': {'WER': 48.5, 'CER': 14.75}}, 'it_it': {'small': {'WER': 14.5, 'CER': 4.24}, 'base': {'WER': 25.03, 'CER': 6.95}, 'medium': {'WER': 10.41, 'CER': 3.52}, 'tiny': {'WER': 38.47, 'CER': 11.22}}, 'pl_pl': {'medium': {'WER': 14.15, 'CER': 4.43}, 'tiny': {'WER': 60.92, 'CER': 21.47}, 'small': {'WER': 22.31, 'CER': 6.85}, 'base': {'WER': 41.59, 'CER': 13.02}}, 'ru_ru': {'base': {'WER': 30.39, 'CER': 8.56}, 'small': {'WER': 18.75, 'CER': 5.25}, 'tiny': {'WER': 44.37, 'CER': 13.17}, 'medium': {'WER': 13.32, 'CER': 3.92}}, 'uk_ua': {'medium': {'WER': 18.38, 'CER': 5.63}, 'tiny': {'WER': 71.88, 'CER': 24.66}, 'base': {'WER': 54.52, 'CER': 16.97}, 'small': {'WER': 30.7, 'CER': 8.75}}}\"\n",
    "results = loads(string.replace(\"'\", '\"'))\n",
    "print(results[\"be_by\"][\"small\"][\"WER\"])\n",
    "traverse_fleurs()"
   ]
  },
  {
   "cell_type": "code",
   "execution_count": 6,
   "metadata": {},
   "outputs": [
    {
     "name": "stdout",
     "output_type": "stream",
     "text": [
      "{'be_by': {'fastconformer_capitalized_output_utf8.json': {'WER': 20.66, 'CER': 7.81}}, 'de_de': {'fastconformer_capitalized_output_utf8.json': {'WER': 12.39, 'CER': 5.47}}, 'en_us': {'fastconformer_capitalized_output_utf8.json': {'WER': 16.9, 'CER': 7.46}}, 'fr_fr': {'fastconformer_capitalized_output_utf8.json': {'WER': 19.01, 'CER': 7.55}}, 'gl_es': {'fastconformer_capitalized_output_utf8.json': {'WER': 56.42, 'CER': 16.7}}, 'hr_hr': {'fastconformer_capitalized_output_utf8.json': {'WER': 87.51, 'CER': 70.52}}, 'it_it': {'fastconformer_capitalized_output_utf8.json': {'WER': 14.1, 'CER': 5.03}}, 'pl_pl': {'fastconformer_capitalized_output_utf8.json': {'WER': 19.99, 'CER': 7.88}}, 'ru_ru': {'fastconformer_capitalized_output_utf8.json': {'WER': 18.05, 'CER': 7.21}}, 'uk_ua': {'fastconformer_capitalized_output_utf8.json': {'WER': 20.81, 'CER': 7.8}}}\n"
     ]
    }
   ],
   "source": [
    "from json import loads\n",
    "\n",
    "string = \"{'be_by': {'fastconformer_capitalized_output_utf8.json': {'WER': 20.66, 'CER': 7.81}}, 'de_de': {'fastconformer_capitalized_output_utf8.json': {'WER': 12.39, 'CER': 5.47}}, 'en_us': {'fastconformer_capitalized_output_utf8.json': {'WER': 16.9, 'CER': 7.46}}, 'fr_fr': {'fastconformer_capitalized_output_utf8.json': {'WER': 19.01, 'CER': 7.55}}, 'gl_es': {'fastconformer_capitalized_output_utf8.json': {'WER': 56.42, 'CER': 16.7}}, 'hr_hr': {'fastconformer_capitalized_output_utf8.json': {'WER': 87.51, 'CER': 70.52}}, 'it_it': {'fastconformer_capitalized_output_utf8.json': {'WER': 14.1, 'CER': 5.03}}, 'pl_pl': {'fastconformer_capitalized_output_utf8.json': {'WER': 19.99, 'CER': 7.88}}, 'ru_ru': {'fastconformer_capitalized_output_utf8.json': {'WER': 18.05, 'CER': 7.21}}, 'uk_ua': {'fastconformer_capitalized_output_utf8.json': {'WER': 20.81, 'CER': 7.8}}}\"\n",
    "\n",
    "results = loads(string.replace(\"'\", '\"'))\n",
    "print(results)"
   ]
  },
  {
   "cell_type": "code",
   "execution_count": 11,
   "metadata": {},
   "outputs": [
    {
     "data": {
      "image/png": "[encoded data removed]",
      "text/plain": [
       "<Figure size 1000x500 with 1 Axes>"
      ]
     },
     "metadata": {},
     "output_type": "display_data"
    }
   ],
   "source": [
    "import matplotlib.pyplot as plt                                 \n",
    "import numpy as np                                              \n",
    "                                                                \n",
    "data = results                                          \n",
    "                                                                \n",
    "properties = []                                                 \n",
    "values = []                                                     \n",
    "                                                                \n",
    "for lang, categories in data.items():\n",
    "    # print(lang, categories)                           \n",
    "    for cat, props in categories.items():   \n",
    "        # print(cat, props)            \n",
    "        for prop, val in props.items():     \n",
    "            if prop != \"WER\":\n",
    "                continue\n",
    "            properties.append(f\"{lang}-{prop}\")           \n",
    "            values.append(val)                                  \n",
    "\n",
    "combined = sorted(list(zip(values, properties)))\n",
    "values, properties = zip(*combined)\n",
    "\n",
    "# set figure size                                               \n",
    "plt.figure(figsize=(10, 5))                                     \n",
    "                                                                \n",
    "# create a bar chart                                            \n",
    "plt.bar(properties, values)                                     \n",
    "                                                                \n",
    "# rotate x-axis labels if they overlap                          \n",
    "plt.xticks(rotation=90)                                         \n",
    "                                                                \n",
    "# add labels                                                    \n",
    "plt.xlabel('Language-Model-Property', fontweight ='bold')    \n",
    "plt.ylabel('%', fontweight ='bold')                        \n",
    "                                                                \n",
    "# show the plot                                                 \n",
    "plt.show()                                                      \n"
   ]
  }
 ],
 "metadata": {
  "kernelspec": {
   "display_name": "nemo2",
   "language": "python",
   "name": "python3"
  },
  "language_info": {
   "codemirror_mode": {
    "name": "ipython",
    "version": 3
   },
   "file_extension": ".py",
   "mimetype": "text/x-python",
   "name": "python",
   "nbconvert_exporter": "python",
   "pygments_lexer": "ipython3",
   "version": "3.8.18"
  }
 },
 "nbformat": 4,
 "nbformat_minor": 2
}
